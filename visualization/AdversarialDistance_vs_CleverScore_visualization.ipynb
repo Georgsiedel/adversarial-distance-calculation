{
 "cells": [
  {
   "cell_type": "code",
   "execution_count": 174,
   "metadata": {},
   "outputs": [],
   "source": [
    "import matplotlib.pyplot as plt\n",
    "import numpy as np\n",
    "import matplotlib.lines as mlines\n",
    "import json"
   ]
  },
  {
   "cell_type": "code",
   "execution_count": 175,
   "metadata": {},
   "outputs": [],
   "source": [
    "model_type = 'adversarial'         # 'standard', 'robust', 'adversarial'\n",
    "norm = 2                       # 1, 2, np.inf\n",
    "max_iterations = 500            # maximum number of iterations for the PGD attack\n",
    "nb_batch = 500                  # number of batches for clever score computation\n",
    "batch_size = 1024               # batch size for clever score computation"
   ]
  },
  {
   "cell_type": "code",
   "execution_count": 176,
   "metadata": {},
   "outputs": [],
   "source": [
    "if model_type=='adversarial':\n",
    "    norm = 2\n",
    "    max_iterations = 10000"
   ]
  },
  {
   "cell_type": "code",
   "execution_count": 177,
   "metadata": {},
   "outputs": [],
   "source": [
    "file_path = f'../data/paper_data/adv_dist_vs_clever_{model_type}_500.json'\n",
    "\n",
    "# load the data\n",
    "with open(file_path, 'r') as f:\n",
    "    results_dict = json.load(f)"
   ]
  },
  {
   "cell_type": "code",
   "execution_count": 178,
   "metadata": {},
   "outputs": [],
   "source": [
    "clever_values = results_dict[f'{norm}']['clever_score'][f'{nb_batch}-{batch_size}']\n",
    "max_adversarial_distance = results_dict[f'{norm}']['max_adversarial_distance']  "
   ]
  },
  {
   "cell_type": "code",
   "execution_count": 179,
   "metadata": {},
   "outputs": [],
   "source": [
    "min_attack_value, colors_attack, colors_clever = [], [], []\n",
    "\n",
    "for i in range(len(results_dict[f\"{norm}\"]['adversarial_distance_pgd'])):\n",
    "    \n",
    "    #Misclassified inputs\n",
    "    if results_dict[f\"{norm}\"]['adversarial_distance_pgd'][i]==0.0 and results_dict[f\"{norm}\"]['adversarial_distance_second_attack'][i]==0.0:\n",
    "        colors_attack.append('blue')\n",
    "        colors_clever.append('black')\n",
    "        clever_values[i] = None\n",
    "        min_attack_value.append(0.0)\n",
    "\n",
    "    # Both attacks unsuccessful\n",
    "    elif model_type=='adversarial' and results_dict[f\"{norm}\"]['iterations_pgd'][i] == (max_iterations - 1) and results_dict[f\"{norm}\"]['adversarial_distance_second_attack'][i] == 0.0:\n",
    "        colors_attack.append('blue')\n",
    "        colors_clever.append('black')\n",
    "        min_attack_value.append(max_adversarial_distance)\n",
    "    \n",
    "    # CW is None but PGD works\n",
    "    elif model_type=='adversarial' and results_dict[f\"{norm}\"]['iterations_pgd'][i] < (max_iterations - 1) and results_dict[f\"{norm}\"]['adversarial_distance_second_attack'][i] == 0.0:\n",
    "        colors_attack.append('blue')\n",
    "        min_attack_value.append(results_dict[f\"{norm}\"]['adversarial_distance_pgd'][i])\n",
    "        if results_dict[f'{norm}']['clever_score'][f'{nb_batch}-{batch_size}'][i]>results_dict[f\"{norm}\"]['adversarial_distance_pgd'][i]:\n",
    "            colors_clever.append('red')\n",
    "        else:\n",
    "            colors_clever.append('black')\n",
    "    \n",
    "    # PGD is None but CW works\n",
    "    elif model_type=='adversarial' and results_dict[f\"{norm}\"]['iterations_pgd'][i] == (max_iterations - 1) and results_dict[f\"{norm}\"]['adversarial_distance_second_attack'][i] > 0.0:\n",
    "        colors_attack.append('green')\n",
    "        min_attack_value.append(results_dict[f\"{norm}\"]['adversarial_distance_second_attack'][i])\n",
    "        if results_dict[f'{norm}']['clever_score'][f'{nb_batch}-{batch_size}'][i]>results_dict[f\"{norm}\"]['adversarial_distance_second_attack'][i]:\n",
    "            colors_clever.append('red')\n",
    "        else:\n",
    "            colors_clever.append('black')\n",
    "        \n",
    "    # take min of two\n",
    "    else:\n",
    "        if results_dict[f\"{norm}\"]['adversarial_distance_second_attack'][i]<results_dict[f\"{norm}\"]['adversarial_distance_pgd'][i] and results_dict[f\"{norm}\"]['adversarial_distance_second_attack'][i]>0.0:\n",
    "            colors_attack.append('green')\n",
    "            min_attack_value.append(results_dict[f\"{norm}\"]['adversarial_distance_second_attack'][i])\n",
    "        else:    \n",
    "            colors_attack.append('blue')\n",
    "            min_attack_value.append(results_dict[f\"{norm}\"]['adversarial_distance_pgd'][i])\n",
    "        \n",
    "        if min_attack_value[i]>=results_dict[f'{norm}']['clever_score'][f'{nb_batch}-{batch_size}'][i]:\n",
    "            colors_clever.append('black')\n",
    "        else:\n",
    "            colors_clever.append('red')"
   ]
  },
  {
   "cell_type": "code",
   "execution_count": 180,
   "metadata": {},
   "outputs": [],
   "source": [
    "sorted_indices = np.argsort(min_attack_value)\n",
    "min_attack_value_sorted = np.array(min_attack_value)[sorted_indices].tolist()\n",
    "clever_values_sorted = np.array(clever_values)[sorted_indices].tolist()\n",
    "colors_attack_sorted = np.array(colors_attack)[sorted_indices].tolist()\n",
    "colors_clever_sorted = np.array(colors_clever)[sorted_indices].tolist()"
   ]
  },
  {
   "cell_type": "code",
   "execution_count": 181,
   "metadata": {},
   "outputs": [
    {
     "data": {
      "image/png": "[encoded data removed]",
      "text/plain": [
       "<Figure size 469x217 with 1 Axes>"
      ]
     },
     "metadata": {},
     "output_type": "display_data"
    }
   ],
   "source": [
    "# Calculate the error proportion\n",
    "total_points = 0\n",
    "red_points = 0\n",
    "\n",
    "image_ids = np.arange(len(min_attack_value))\n",
    "\n",
    "for i in range(len(image_ids)):\n",
    "    if clever_values_sorted[i] is not None:\n",
    "        total_points += 1\n",
    "        if clever_values_sorted[i] > min_attack_value_sorted[i]:\n",
    "            red_points += 1\n",
    "\n",
    "error_proportion = (red_points / total_points) * 100 if total_points > 0 else 0\n",
    "\n",
    "mean_clever_score = np.mean([x for x in clever_values_sorted if x is not None and np.isnan(x)==False])\n",
    "mean_min_attack_value = np.mean([x for x in min_attack_value_sorted if np.isnan(x)==False])\n",
    "\n",
    "# Plotting\n",
    "marker_size = 2\n",
    "plt.figure(figsize=(4.69, 2.17))\n",
    "# plt.figure(figsize=(20, 6))\n",
    "plt.scatter(image_ids, min_attack_value_sorted, color=colors_attack_sorted, s=marker_size)\n",
    "plt.scatter(image_ids, clever_values_sorted, color=colors_clever_sorted, s=marker_size)\n",
    "# Adding labels and title with error proportion\n",
    "plt.xlabel('Image ID', fontsize=10)\n",
    "plt.ylabel(f'L$_{norm}$ Distance', fontsize=10)\n",
    "# plt.title(f'Error Proportion: {error_proportion:.2f}%   Mean Clever Score: {mean_clever_score:.4f}   Mean Adversarial Distance: {mean_min_attack_value:.4f}', fontsize=14)\n",
    "plt.xticks(np.arange(0, len(sorted_indices), 100), fontsize=10)\n",
    "plt.yticks(fontsize=10)\n",
    "# adjust y ticks resolution to 0.01\n",
    "plt.yticks(np.arange(0, max(min_attack_value_sorted), 2))\n",
    "# Avoid label duplication in the legend\n",
    "handles, labels = plt.gca().get_legend_handles_labels()\n",
    "by_label = dict(zip(labels, handles))\n",
    "\n",
    "legend_elements = [\n",
    "    mlines.Line2D([0], [0], marker='o', color='w', markerfacecolor='blue', label='Adversarial Distance (PGD)'),\n",
    "    mlines.Line2D([0], [0], marker='o', color='w', markerfacecolor='green', label='Adversarial Distance (Second attack)'),\n",
    "    mlines.Line2D([0], [0], marker='o', color='w', markerfacecolor='red', label='Clever Score $\\geq$ Adversarial Distance'),\n",
    "    mlines.Line2D([0], [0], marker='o', color='w', markerfacecolor='black', label='Clever Score $<$ Adversarial Distance')\n",
    "]\n",
    "\n",
    "# plt.legend(handles=legend_elements, fontsize=10)\n",
    "plt.savefig(f'../data/paper_data/adv_dist_vs_clever_{model_type}_500_L{norm}.pdf')\n",
    "plt.show()"
   ]
  }
 ],
 "metadata": {
  "kaggle": {
   "accelerator": "none",
   "dataSources": [
    {
     "datasetId": 5026577,
     "sourceId": 8438554,
     "sourceType": "datasetVersion"
    }
   ],
   "dockerImageVersionId": 30698,
   "isGpuEnabled": false,
   "isInternetEnabled": true,
   "language": "python",
   "sourceType": "notebook"
  },
  "kernelspec": {
   "display_name": "Python 3 (ipykernel)",
   "language": "python",
   "name": "python3"
  },
  "language_info": {
   "codemirror_mode": {
    "name": "ipython",
    "version": 3
   },
   "file_extension": ".py",
   "mimetype": "text/x-python",
   "name": "python",
   "nbconvert_exporter": "python",
   "pygments_lexer": "ipython3",
   "version": "3.11.4"
  }
 },
 "nbformat": 4,
 "nbformat_minor": 4
}
